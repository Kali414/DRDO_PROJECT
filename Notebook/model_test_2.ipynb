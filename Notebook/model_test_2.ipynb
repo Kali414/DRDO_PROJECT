{
 "cells": [
  {
   "cell_type": "code",
   "execution_count": 1,
   "id": "0ff4dad2-ff47-4210-9f2b-77ee3c182bc7",
   "metadata": {},
   "outputs": [
    {
     "name": "stderr",
     "output_type": "stream",
     "text": [
      "2025-05-26 14:37:51.135981: E external/local_xla/xla/stream_executor/cuda/cuda_fft.cc:477] Unable to register cuFFT factory: Attempting to register factory for plugin cuFFT when one has already been registered\n",
      "WARNING: All log messages before absl::InitializeLog() is called are written to STDERR\n",
      "E0000 00:00:1748270271.222820    5605 cuda_dnn.cc:8310] Unable to register cuDNN factory: Attempting to register factory for plugin cuDNN when one has already been registered\n",
      "E0000 00:00:1748270271.249613    5605 cuda_blas.cc:1418] Unable to register cuBLAS factory: Attempting to register factory for plugin cuBLAS when one has already been registered\n",
      "2025-05-26 14:37:51.427219: I tensorflow/core/platform/cpu_feature_guard.cc:210] This TensorFlow binary is optimized to use available CPU instructions in performance-critical operations.\n",
      "To enable the following instructions: AVX2 FMA, in other operations, rebuild TensorFlow with the appropriate compiler flags.\n"
     ]
    }
   ],
   "source": [
    "import tensorflow as tf\n",
    "from tensorflow.keras.models import load_model"
   ]
  },
  {
   "cell_type": "code",
   "execution_count": 2,
   "id": "af447f53-20c1-406c-8da9-bb02eeb7a565",
   "metadata": {},
   "outputs": [
    {
     "name": "stdout",
     "output_type": "stream",
     "text": [
      "TensorFlow version: 2.18.0\n",
      "GPU Available: [PhysicalDevice(name='/physical_device:GPU:0', device_type='GPU')]\n"
     ]
    }
   ],
   "source": [
    "# Check TensorFlow version and GPU availability\n",
    "print(\"TensorFlow version:\", tf.__version__)\n",
    "print(\"GPU Available:\", tf.config.list_physical_devices('GPU'))"
   ]
  },
  {
   "cell_type": "code",
   "execution_count": 3,
   "id": "489d536a-5a38-44c3-bd22-b84815a6889d",
   "metadata": {},
   "outputs": [],
   "source": [
    "# model2=load_model(\"bpm_model_v2.keras\")"
   ]
  },
  {
   "cell_type": "code",
   "execution_count": 4,
   "id": "71f45d11-3bfe-466f-92d7-f975ccb6e92d",
   "metadata": {},
   "outputs": [
    {
     "name": "stdout",
     "output_type": "stream",
     "text": [
      "/bin/bash: /home/kalicharan_ubuntu/miniconda3/envs/tf_gpu/lib/libtinfo.so.6: no version information available (required by /bin/bash)\n",
      "Requirement already satisfied: joblib in /home/kalicharan_ubuntu/miniconda3/envs/tf_gpu/lib/python3.9/site-packages (1.5.1)\n",
      "\n",
      "\u001b[1m[\u001b[0m\u001b[34;49mnotice\u001b[0m\u001b[1;39;49m]\u001b[0m\u001b[39;49m A new release of pip is available: \u001b[0m\u001b[31;49m25.0.1\u001b[0m\u001b[39;49m -> \u001b[0m\u001b[32;49m25.1.1\u001b[0m\n",
      "\u001b[1m[\u001b[0m\u001b[34;49mnotice\u001b[0m\u001b[1;39;49m]\u001b[0m\u001b[39;49m To update, run: \u001b[0m\u001b[32;49mpip install --upgrade pip\u001b[0m\n"
     ]
    }
   ],
   "source": [
    "import numpy as np\n",
    "import pandas as pd\n",
    "!pip install joblib\n",
    "import joblib "
   ]
  },
  {
   "cell_type": "code",
   "execution_count": 5,
   "id": "21e917b1-8bd1-48a5-b069-48f590b08a78",
   "metadata": {},
   "outputs": [],
   "source": [
    "X1=np.load(\"input1_reshaped.npy\")\n",
    "Y1=np.load(\"out1_reshaped.npy\")\n",
    "\n",
    "X2=np.load(\"input2_reshaped.npy\")\n",
    "Y2=np.load(\"out2_reshaped.npy\")"
   ]
  },
  {
   "cell_type": "code",
   "execution_count": 6,
   "id": "3bfe8aad-a00a-41bc-b094-5d0f838d8e82",
   "metadata": {},
   "outputs": [
    {
     "data": {
      "text/plain": [
       "array([[[117.54315336],\n",
       "        [117.54315336],\n",
       "        [117.2005136 ],\n",
       "        ...,\n",
       "        [117.28275571],\n",
       "        [117.28275571],\n",
       "        [117.41480498]],\n",
       "\n",
       "       [[117.41480498],\n",
       "        [117.41480498],\n",
       "        [117.29173759],\n",
       "        ...,\n",
       "        [118.23561728],\n",
       "        [118.23561728],\n",
       "        [118.31317935]],\n",
       "\n",
       "       [[118.31317935],\n",
       "        [118.37470463],\n",
       "        [118.37470463],\n",
       "        ...,\n",
       "        [119.79420653],\n",
       "        [120.12570888],\n",
       "        [120.12570888]],\n",
       "\n",
       "       ...,\n",
       "\n",
       "       [[100.69482022],\n",
       "        [100.69482022],\n",
       "        [101.64573269],\n",
       "        ...,\n",
       "        [ 99.62628667],\n",
       "        [ 99.62628667],\n",
       "        [ 98.59385419]],\n",
       "\n",
       "       [[ 98.59385419],\n",
       "        [ 98.42204435],\n",
       "        [ 98.42204435],\n",
       "        ...,\n",
       "        [ 97.53497031],\n",
       "        [ 98.18329085],\n",
       "        [ 98.18329085]],\n",
       "\n",
       "       [[ 98.18329085],\n",
       "        [ 97.99323596],\n",
       "        [ 97.99323596],\n",
       "        ...,\n",
       "        [ 97.91814895],\n",
       "        [ 97.94346222],\n",
       "        [ 97.94346222]]])"
      ]
     },
     "execution_count": 6,
     "metadata": {},
     "output_type": "execute_result"
    }
   ],
   "source": [
    "X1"
   ]
  },
  {
   "cell_type": "code",
   "execution_count": 7,
   "id": "5171df67-47eb-4b5a-af87-d10492a4d0f2",
   "metadata": {},
   "outputs": [
    {
     "data": {
      "text/plain": [
       "array([[ 75],\n",
       "       [ 75],\n",
       "       [ 75],\n",
       "       ...,\n",
       "       [100],\n",
       "       [ 99],\n",
       "       [ 99]])"
      ]
     },
     "execution_count": 7,
     "metadata": {},
     "output_type": "execute_result"
    }
   ],
   "source": [
    "Y1"
   ]
  },
  {
   "cell_type": "code",
   "execution_count": 8,
   "id": "f169fc16-87b7-404b-bf1c-be276c16f0af",
   "metadata": {},
   "outputs": [
    {
     "data": {
      "text/plain": [
       "array([[[119.88282422],\n",
       "        [118.97290123],\n",
       "        [118.97290123],\n",
       "        ...,\n",
       "        [120.44384736],\n",
       "        [120.20303872],\n",
       "        [119.99503287]],\n",
       "\n",
       "       [[119.99503287],\n",
       "        [119.87658634],\n",
       "        [119.87658634],\n",
       "        ...,\n",
       "        [120.22124178],\n",
       "        [120.01143659],\n",
       "        [120.01143659]],\n",
       "\n",
       "       [[119.47442282],\n",
       "        [119.17043911],\n",
       "        [119.24923608],\n",
       "        ...,\n",
       "        [118.64247921],\n",
       "        [119.06725013],\n",
       "        [119.06725013]],\n",
       "\n",
       "       ...,\n",
       "\n",
       "       [[132.44560167],\n",
       "        [132.29570582],\n",
       "        [132.31129052],\n",
       "        ...,\n",
       "        [132.2343775 ],\n",
       "        [132.2528441 ],\n",
       "        [132.50644531]],\n",
       "\n",
       "       [[132.49823978],\n",
       "        [132.17023003],\n",
       "        [132.54125   ],\n",
       "        ...,\n",
       "        [132.14235988],\n",
       "        [132.44257552],\n",
       "        [132.17748507]],\n",
       "\n",
       "       [[132.350625  ],\n",
       "        [132.33976563],\n",
       "        [132.43261719],\n",
       "        ...,\n",
       "        [132.08227523],\n",
       "        [132.08227523],\n",
       "        [132.37498553]]])"
      ]
     },
     "execution_count": 8,
     "metadata": {},
     "output_type": "execute_result"
    }
   ],
   "source": [
    "X2"
   ]
  },
  {
   "cell_type": "code",
   "execution_count": 9,
   "id": "61fd9197-cd48-4c7e-800c-c0d6b349392b",
   "metadata": {},
   "outputs": [
    {
     "data": {
      "text/plain": [
       "array([ 97,  99, 102, 104, 106, 107, 108, 109, 110, 111, 112, 113, 114,\n",
       "       115, 116, 117, 118])"
      ]
     },
     "execution_count": 9,
     "metadata": {},
     "output_type": "execute_result"
    }
   ],
   "source": [
    "np.unique(Y2)"
   ]
  },
  {
   "cell_type": "code",
   "execution_count": 10,
   "id": "4c5cb60a-7abd-4038-bc91-65770892f448",
   "metadata": {},
   "outputs": [
    {
     "data": {
      "text/plain": [
       "array([ 62,  63,  64,  65,  66,  67,  68,  69,  70,  71,  72,  73,  74,\n",
       "        75,  76,  77,  78,  79,  80,  81,  82,  83,  84,  85,  86,  87,\n",
       "        88,  89,  90,  91,  92,  93,  94,  95,  96,  97,  98,  99, 100,\n",
       "       101, 102, 103, 104, 105, 106, 107, 108, 110, 111, 112, 113, 114,\n",
       "       115, 116, 117, 118, 119, 120, 121, 122, 123, 124, 125, 126, 127,\n",
       "       128, 130, 131, 133, 134, 135, 136, 137, 140, 143, 144, 145, 147,\n",
       "       148])"
      ]
     },
     "execution_count": 10,
     "metadata": {},
     "output_type": "execute_result"
    }
   ],
   "source": [
    "np.unique(Y1)"
   ]
  },
  {
   "cell_type": "code",
   "execution_count": 11,
   "id": "49193287-bd3e-4f3d-884b-4f441bdfa3e7",
   "metadata": {},
   "outputs": [],
   "source": [
    "X=np.vstack([X1,X2])\n",
    "Y=np.vstack([Y1,Y2])"
   ]
  },
  {
   "cell_type": "code",
   "execution_count": 12,
   "id": "18c3ffe5-5ad7-46fa-a241-468c33e339cf",
   "metadata": {},
   "outputs": [
    {
     "data": {
      "text/plain": [
       "(5859, 18, 1)"
      ]
     },
     "execution_count": 12,
     "metadata": {},
     "output_type": "execute_result"
    }
   ],
   "source": [
    "X.shape"
   ]
  },
  {
   "cell_type": "code",
   "execution_count": 13,
   "id": "835d1d34-acb3-47b7-b21c-9a4c693cdcdd",
   "metadata": {},
   "outputs": [],
   "source": [
    "callback=tf.keras.callbacks.EarlyStopping(\n",
    "    monitor='val_loss',\n",
    "    min_delta=0,\n",
    "    patience=0,\n",
    "    verbose=0,\n",
    "    mode='auto',\n",
    "    baseline=None,\n",
    "    restore_best_weights=False,\n",
    "    start_from_epoch=0\n",
    ")"
   ]
  },
  {
   "cell_type": "code",
   "execution_count": 14,
   "id": "215bcbf4-eb76-4d55-b245-4205c93fa0c6",
   "metadata": {},
   "outputs": [],
   "source": [
    "# model2.compile(optimizer=\"adam\",metrics=[\"mae\"],loss=\"mae\")\n",
    "# model2.fit(X,Y,epochs=200,callbacks=callback,validation_split=0.3)"
   ]
  },
  {
   "cell_type": "code",
   "execution_count": 15,
   "id": "444fa97f-67d8-47d5-93fc-a7ba40bde88a",
   "metadata": {},
   "outputs": [],
   "source": [
    "import tensorflow as tf\n",
    "from tensorflow.keras import layers\n",
    "from tensorflow.keras.layers import Dropout, BatchNormalization\n",
    "\n",
    "def build_cnn_lstm_model():\n",
    "    inputs = tf.keras.Input(shape=(18, 1))  # Shape: (timesteps, features)\n",
    "\n",
    "    # CNN part\n",
    "    x = layers.Conv1D(32, kernel_size=3, padding=\"same\", activation=\"relu\")(inputs)\n",
    "    x = layers.MaxPooling1D(pool_size=2)(x)\n",
    "\n",
    "    x = layers.Conv1D(64, kernel_size=3, padding=\"same\", activation=\"relu\")(x)\n",
    "    x = layers.MaxPooling1D(pool_size=2)(x)\n",
    "\n",
    "    # LSTM part\n",
    "    x = layers.LSTM(64, return_sequences=True, activation=\"relu\")(x)\n",
    "    x = Dropout(0.2)(x)\n",
    "    x = BatchNormalization()(x)\n",
    "\n",
    "    x = layers.LSTM(128, return_sequences=True, activation=\"relu\")(x)\n",
    "    x = Dropout(0.3)(x)\n",
    "    x = BatchNormalization()(x)\n",
    "\n",
    "    x = layers.LSTM(128, return_sequences=False, activation=\"relu\")(x)  # Final LSTM layer\n",
    "    x = Dropout(0.2)(x)\n",
    "    x = BatchNormalization()(x)\n",
    "\n",
    "    # Dense layers\n",
    "    x = layers.Dense(256, activation=\"relu\")(x)\n",
    "    x = Dropout(0.3)(x)\n",
    "    x = BatchNormalization()(x)\n",
    "\n",
    "    x = layers.Dense(256, activation=\"relu\")(x)\n",
    "    x = Dropout(0.3)(x)\n",
    "    x = BatchNormalization()(x)\n",
    "\n",
    "    x = layers.Dense(512, activation=\"relu\")(x)\n",
    "    outputs = layers.Dense(1)(x)  # Regression output (e.g., BPM)\n",
    "\n",
    "    model = tf.keras.Model(inputs, outputs)\n",
    "    return model\n"
   ]
  },
  {
   "cell_type": "code",
   "execution_count": 16,
   "id": "139d1ed3-7cd4-4afe-b495-3e859c4ef2b9",
   "metadata": {},
   "outputs": [],
   "source": [
    "# model3=build_cnn_lstm_model()"
   ]
  },
  {
   "cell_type": "code",
   "execution_count": 17,
   "id": "eac56012-e74e-4204-9a55-23d35a879a3b",
   "metadata": {},
   "outputs": [],
   "source": [
    "# model3.compile(optimizer=\"adam\",metrics=[\"mae\"],loss=\"mae\")\n",
    "# model3.fit(X,Y,epochs=200,callbacks=callback)"
   ]
  },
  {
   "cell_type": "code",
   "execution_count": 21,
   "id": "42e1fef4-d19e-4f96-8a70-5b815f5b1de8",
   "metadata": {},
   "outputs": [
    {
     "name": "stdout",
     "output_type": "stream",
     "text": [
      "Epoch 1/100\n",
      "\u001b[1m184/184\u001b[0m \u001b[32m━━━━━━━━━━━━━━━━━━━━\u001b[0m\u001b[37m\u001b[0m \u001b[1m29s\u001b[0m 59ms/step - loss: 69.3410 - mae: 69.3410 \n",
      "Epoch 2/100\n",
      "\u001b[1m  5/184\u001b[0m \u001b[37m━━━━━━━━━━━━━━━━━━━━\u001b[0m \u001b[1m4s\u001b[0m 27ms/step - loss: 13.3948 - mae: 13.3948 "
     ]
    },
    {
     "name": "stderr",
     "output_type": "stream",
     "text": [
      "/home/kalicharan_ubuntu/miniconda3/envs/tf_gpu/lib/python3.9/site-packages/keras/src/callbacks/early_stopping.py:153: UserWarning: Early stopping conditioned on metric `val_loss` which is not available. Available metrics are: loss,mae\n",
      "  current = self.get_monitor_value(logs)\n"
     ]
    },
    {
     "name": "stdout",
     "output_type": "stream",
     "text": [
      "\u001b[1m184/184\u001b[0m \u001b[32m━━━━━━━━━━━━━━━━━━━━\u001b[0m\u001b[37m\u001b[0m \u001b[1m2s\u001b[0m 11ms/step - loss: 13.4488 - mae: 13.4488\n",
      "Epoch 3/100\n",
      "\u001b[1m184/184\u001b[0m \u001b[32m━━━━━━━━━━━━━━━━━━━━\u001b[0m\u001b[37m\u001b[0m \u001b[1m2s\u001b[0m 10ms/step - loss: 13.2507 - mae: 13.2507\n",
      "Epoch 4/100\n",
      "\u001b[1m184/184\u001b[0m \u001b[32m━━━━━━━━━━━━━━━━━━━━\u001b[0m\u001b[37m\u001b[0m \u001b[1m2s\u001b[0m 10ms/step - loss: 12.6729 - mae: 12.6729\n",
      "Epoch 5/100\n",
      "\u001b[1m184/184\u001b[0m \u001b[32m━━━━━━━━━━━━━━━━━━━━\u001b[0m\u001b[37m\u001b[0m \u001b[1m2s\u001b[0m 10ms/step - loss: 12.5608 - mae: 12.5608\n",
      "Epoch 6/100\n",
      "\u001b[1m184/184\u001b[0m \u001b[32m━━━━━━━━━━━━━━━━━━━━\u001b[0m\u001b[37m\u001b[0m \u001b[1m2s\u001b[0m 10ms/step - loss: 11.9143 - mae: 11.9143\n",
      "Epoch 7/100\n",
      "\u001b[1m184/184\u001b[0m \u001b[32m━━━━━━━━━━━━━━━━━━━━\u001b[0m\u001b[37m\u001b[0m \u001b[1m2s\u001b[0m 9ms/step - loss: 12.5025 - mae: 12.5025\n",
      "Epoch 8/100\n",
      "\u001b[1m184/184\u001b[0m \u001b[32m━━━━━━━━━━━━━━━━━━━━\u001b[0m\u001b[37m\u001b[0m \u001b[1m4s\u001b[0m 24ms/step - loss: 12.1456 - mae: 12.1456\n",
      "Epoch 9/100\n",
      "\u001b[1m184/184\u001b[0m \u001b[32m━━━━━━━━━━━━━━━━━━━━\u001b[0m\u001b[37m\u001b[0m \u001b[1m2s\u001b[0m 9ms/step - loss: 12.2180 - mae: 12.2180\n",
      "Epoch 10/100\n",
      "\u001b[1m184/184\u001b[0m \u001b[32m━━━━━━━━━━━━━━━━━━━━\u001b[0m\u001b[37m\u001b[0m \u001b[1m2s\u001b[0m 10ms/step - loss: 12.1481 - mae: 12.1481\n",
      "Epoch 11/100\n",
      "\u001b[1m184/184\u001b[0m \u001b[32m━━━━━━━━━━━━━━━━━━━━\u001b[0m\u001b[37m\u001b[0m \u001b[1m2s\u001b[0m 10ms/step - loss: 12.3161 - mae: 12.3161\n",
      "Epoch 12/100\n",
      "\u001b[1m184/184\u001b[0m \u001b[32m━━━━━━━━━━━━━━━━━━━━\u001b[0m\u001b[37m\u001b[0m \u001b[1m2s\u001b[0m 10ms/step - loss: 11.9883 - mae: 11.9883\n",
      "Epoch 13/100\n",
      "\u001b[1m184/184\u001b[0m \u001b[32m━━━━━━━━━━━━━━━━━━━━\u001b[0m\u001b[37m\u001b[0m \u001b[1m2s\u001b[0m 10ms/step - loss: 12.0163 - mae: 12.0163\n",
      "Epoch 14/100\n",
      "\u001b[1m184/184\u001b[0m \u001b[32m━━━━━━━━━━━━━━━━━━━━\u001b[0m\u001b[37m\u001b[0m \u001b[1m2s\u001b[0m 10ms/step - loss: 11.7780 - mae: 11.7780\n",
      "Epoch 15/100\n",
      "\u001b[1m184/184\u001b[0m \u001b[32m━━━━━━━━━━━━━━━━━━━━\u001b[0m\u001b[37m\u001b[0m \u001b[1m2s\u001b[0m 10ms/step - loss: 12.0278 - mae: 12.0278\n",
      "Epoch 16/100\n",
      "\u001b[1m184/184\u001b[0m \u001b[32m━━━━━━━━━━━━━━━━━━━━\u001b[0m\u001b[37m\u001b[0m \u001b[1m2s\u001b[0m 10ms/step - loss: 12.2010 - mae: 12.2010\n",
      "Epoch 17/100\n",
      "\u001b[1m184/184\u001b[0m \u001b[32m━━━━━━━━━━━━━━━━━━━━\u001b[0m\u001b[37m\u001b[0m \u001b[1m2s\u001b[0m 10ms/step - loss: 12.6007 - mae: 12.6007\n",
      "Epoch 18/100\n",
      "\u001b[1m184/184\u001b[0m \u001b[32m━━━━━━━━━━━━━━━━━━━━\u001b[0m\u001b[37m\u001b[0m \u001b[1m2s\u001b[0m 10ms/step - loss: 12.0156 - mae: 12.0156\n",
      "Epoch 19/100\n",
      "\u001b[1m184/184\u001b[0m \u001b[32m━━━━━━━━━━━━━━━━━━━━\u001b[0m\u001b[37m\u001b[0m \u001b[1m2s\u001b[0m 10ms/step - loss: 12.1614 - mae: 12.1614\n",
      "Epoch 20/100\n",
      "\u001b[1m184/184\u001b[0m \u001b[32m━━━━━━━━━━━━━━━━━━━━\u001b[0m\u001b[37m\u001b[0m \u001b[1m2s\u001b[0m 10ms/step - loss: 11.6501 - mae: 11.6501\n",
      "Epoch 21/100\n",
      "\u001b[1m184/184\u001b[0m \u001b[32m━━━━━━━━━━━━━━━━━━━━\u001b[0m\u001b[37m\u001b[0m \u001b[1m2s\u001b[0m 9ms/step - loss: 11.9099 - mae: 11.9099 \n",
      "Epoch 22/100\n",
      "\u001b[1m184/184\u001b[0m \u001b[32m━━━━━━━━━━━━━━━━━━━━\u001b[0m\u001b[37m\u001b[0m \u001b[1m2s\u001b[0m 10ms/step - loss: 11.6197 - mae: 11.6197\n",
      "Epoch 23/100\n",
      "\u001b[1m184/184\u001b[0m \u001b[32m━━━━━━━━━━━━━━━━━━━━\u001b[0m\u001b[37m\u001b[0m \u001b[1m2s\u001b[0m 10ms/step - loss: 11.8611 - mae: 11.8611\n",
      "Epoch 24/100\n",
      "\u001b[1m184/184\u001b[0m \u001b[32m━━━━━━━━━━━━━━━━━━━━\u001b[0m\u001b[37m\u001b[0m \u001b[1m2s\u001b[0m 9ms/step - loss: 11.9742 - mae: 11.9742 \n",
      "Epoch 25/100\n",
      "\u001b[1m184/184\u001b[0m \u001b[32m━━━━━━━━━━━━━━━━━━━━\u001b[0m\u001b[37m\u001b[0m \u001b[1m2s\u001b[0m 10ms/step - loss: 11.8684 - mae: 11.8684\n",
      "Epoch 26/100\n",
      "\u001b[1m184/184\u001b[0m \u001b[32m━━━━━━━━━━━━━━━━━━━━\u001b[0m\u001b[37m\u001b[0m \u001b[1m5s\u001b[0m 25ms/step - loss: 12.0827 - mae: 12.0827\n",
      "Epoch 27/100\n",
      "\u001b[1m184/184\u001b[0m \u001b[32m━━━━━━━━━━━━━━━━━━━━\u001b[0m\u001b[37m\u001b[0m \u001b[1m2s\u001b[0m 9ms/step - loss: 11.7866 - mae: 11.7866 \n",
      "Epoch 28/100\n",
      "\u001b[1m184/184\u001b[0m \u001b[32m━━━━━━━━━━━━━━━━━━━━\u001b[0m\u001b[37m\u001b[0m \u001b[1m2s\u001b[0m 10ms/step - loss: 11.7034 - mae: 11.7034\n",
      "Epoch 29/100\n",
      "\u001b[1m184/184\u001b[0m \u001b[32m━━━━━━━━━━━━━━━━━━━━\u001b[0m\u001b[37m\u001b[0m \u001b[1m2s\u001b[0m 10ms/step - loss: 11.5849 - mae: 11.5849\n",
      "Epoch 30/100\n",
      "\u001b[1m184/184\u001b[0m \u001b[32m━━━━━━━━━━━━━━━━━━━━\u001b[0m\u001b[37m\u001b[0m \u001b[1m2s\u001b[0m 10ms/step - loss: 11.9350 - mae: 11.9350\n",
      "Epoch 31/100\n",
      "\u001b[1m184/184\u001b[0m \u001b[32m━━━━━━━━━━━━━━━━━━━━\u001b[0m\u001b[37m\u001b[0m \u001b[1m2s\u001b[0m 10ms/step - loss: 11.8703 - mae: 11.8703\n",
      "Epoch 32/100\n",
      "\u001b[1m184/184\u001b[0m \u001b[32m━━━━━━━━━━━━━━━━━━━━\u001b[0m\u001b[37m\u001b[0m \u001b[1m2s\u001b[0m 10ms/step - loss: 11.7034 - mae: 11.7034\n",
      "Epoch 33/100\n",
      "\u001b[1m184/184\u001b[0m \u001b[32m━━━━━━━━━━━━━━━━━━━━\u001b[0m\u001b[37m\u001b[0m \u001b[1m2s\u001b[0m 11ms/step - loss: 11.7063 - mae: 11.7063\n",
      "Epoch 34/100\n",
      "\u001b[1m184/184\u001b[0m \u001b[32m━━━━━━━━━━━━━━━━━━━━\u001b[0m\u001b[37m\u001b[0m \u001b[1m2s\u001b[0m 10ms/step - loss: 11.7899 - mae: 11.7899\n",
      "Epoch 35/100\n",
      "\u001b[1m184/184\u001b[0m \u001b[32m━━━━━━━━━━━━━━━━━━━━\u001b[0m\u001b[37m\u001b[0m \u001b[1m2s\u001b[0m 11ms/step - loss: 11.7113 - mae: 11.7113\n",
      "Epoch 36/100\n",
      "\u001b[1m184/184\u001b[0m \u001b[32m━━━━━━━━━━━━━━━━━━━━\u001b[0m\u001b[37m\u001b[0m \u001b[1m2s\u001b[0m 10ms/step - loss: 11.6075 - mae: 11.6075\n",
      "Epoch 37/100\n",
      "\u001b[1m184/184\u001b[0m \u001b[32m━━━━━━━━━━━━━━━━━━━━\u001b[0m\u001b[37m\u001b[0m \u001b[1m2s\u001b[0m 10ms/step - loss: 11.9531 - mae: 11.9531\n",
      "Epoch 38/100\n",
      "\u001b[1m184/184\u001b[0m \u001b[32m━━━━━━━━━━━━━━━━━━━━\u001b[0m\u001b[37m\u001b[0m \u001b[1m2s\u001b[0m 10ms/step - loss: 11.8078 - mae: 11.8078\n",
      "Epoch 39/100\n",
      "\u001b[1m184/184\u001b[0m \u001b[32m━━━━━━━━━━━━━━━━━━━━\u001b[0m\u001b[37m\u001b[0m \u001b[1m2s\u001b[0m 9ms/step - loss: 11.4464 - mae: 11.4464 \n",
      "Epoch 40/100\n",
      "\u001b[1m184/184\u001b[0m \u001b[32m━━━━━━━━━━━━━━━━━━━━\u001b[0m\u001b[37m\u001b[0m \u001b[1m2s\u001b[0m 10ms/step - loss: 11.8782 - mae: 11.8782\n",
      "Epoch 41/100\n",
      "\u001b[1m184/184\u001b[0m \u001b[32m━━━━━━━━━━━━━━━━━━━━\u001b[0m\u001b[37m\u001b[0m \u001b[1m2s\u001b[0m 10ms/step - loss: 11.6137 - mae: 11.6137\n",
      "Epoch 42/100\n",
      "\u001b[1m184/184\u001b[0m \u001b[32m━━━━━━━━━━━━━━━━━━━━\u001b[0m\u001b[37m\u001b[0m \u001b[1m2s\u001b[0m 10ms/step - loss: 11.7412 - mae: 11.7412\n",
      "Epoch 43/100\n",
      "\u001b[1m184/184\u001b[0m \u001b[32m━━━━━━━━━━━━━━━━━━━━\u001b[0m\u001b[37m\u001b[0m \u001b[1m5s\u001b[0m 25ms/step - loss: 11.9024 - mae: 11.9024\n",
      "Epoch 44/100\n",
      "\u001b[1m184/184\u001b[0m \u001b[32m━━━━━━━━━━━━━━━━━━━━\u001b[0m\u001b[37m\u001b[0m \u001b[1m2s\u001b[0m 10ms/step - loss: 11.6142 - mae: 11.6142\n",
      "Epoch 45/100\n",
      "\u001b[1m184/184\u001b[0m \u001b[32m━━━━━━━━━━━━━━━━━━━━\u001b[0m\u001b[37m\u001b[0m \u001b[1m2s\u001b[0m 11ms/step - loss: 11.8971 - mae: 11.8971\n",
      "Epoch 46/100\n",
      "\u001b[1m184/184\u001b[0m \u001b[32m━━━━━━━━━━━━━━━━━━━━\u001b[0m\u001b[37m\u001b[0m \u001b[1m2s\u001b[0m 11ms/step - loss: 11.6541 - mae: 11.6541\n",
      "Epoch 47/100\n",
      "\u001b[1m184/184\u001b[0m \u001b[32m━━━━━━━━━━━━━━━━━━━━\u001b[0m\u001b[37m\u001b[0m \u001b[1m2s\u001b[0m 13ms/step - loss: 11.5058 - mae: 11.5058\n",
      "Epoch 48/100\n",
      "\u001b[1m184/184\u001b[0m \u001b[32m━━━━━━━━━━━━━━━━━━━━\u001b[0m\u001b[37m\u001b[0m \u001b[1m2s\u001b[0m 11ms/step - loss: 11.5886 - mae: 11.5886\n",
      "Epoch 49/100\n",
      "\u001b[1m184/184\u001b[0m \u001b[32m━━━━━━━━━━━━━━━━━━━━\u001b[0m\u001b[37m\u001b[0m \u001b[1m2s\u001b[0m 9ms/step - loss: 11.5352 - mae: 11.5352 \n",
      "Epoch 50/100\n",
      "\u001b[1m184/184\u001b[0m \u001b[32m━━━━━━━━━━━━━━━━━━━━\u001b[0m\u001b[37m\u001b[0m \u001b[1m2s\u001b[0m 10ms/step - loss: 11.6394 - mae: 11.6394\n",
      "Epoch 51/100\n",
      "\u001b[1m184/184\u001b[0m \u001b[32m━━━━━━━━━━━━━━━━━━━━\u001b[0m\u001b[37m\u001b[0m \u001b[1m2s\u001b[0m 10ms/step - loss: 11.5324 - mae: 11.5324\n",
      "Epoch 52/100\n",
      "\u001b[1m184/184\u001b[0m \u001b[32m━━━━━━━━━━━━━━━━━━━━\u001b[0m\u001b[37m\u001b[0m \u001b[1m2s\u001b[0m 10ms/step - loss: 11.6182 - mae: 11.6182\n",
      "Epoch 53/100\n",
      "\u001b[1m184/184\u001b[0m \u001b[32m━━━━━━━━━━━━━━━━━━━━\u001b[0m\u001b[37m\u001b[0m \u001b[1m2s\u001b[0m 10ms/step - loss: 11.9492 - mae: 11.9492\n",
      "Epoch 54/100\n",
      "\u001b[1m184/184\u001b[0m \u001b[32m━━━━━━━━━━━━━━━━━━━━\u001b[0m\u001b[37m\u001b[0m \u001b[1m2s\u001b[0m 10ms/step - loss: 11.4641 - mae: 11.4641\n",
      "Epoch 55/100\n",
      "\u001b[1m184/184\u001b[0m \u001b[32m━━━━━━━━━━━━━━━━━━━━\u001b[0m\u001b[37m\u001b[0m \u001b[1m2s\u001b[0m 10ms/step - loss: 11.8036 - mae: 11.8036\n",
      "Epoch 56/100\n",
      "\u001b[1m184/184\u001b[0m \u001b[32m━━━━━━━━━━━━━━━━━━━━\u001b[0m\u001b[37m\u001b[0m \u001b[1m2s\u001b[0m 10ms/step - loss: 11.5016 - mae: 11.5016\n",
      "Epoch 57/100\n",
      "\u001b[1m184/184\u001b[0m \u001b[32m━━━━━━━━━━━━━━━━━━━━\u001b[0m\u001b[37m\u001b[0m \u001b[1m2s\u001b[0m 10ms/step - loss: 11.4049 - mae: 11.4049\n",
      "Epoch 58/100\n",
      "\u001b[1m184/184\u001b[0m \u001b[32m━━━━━━━━━━━━━━━━━━━━\u001b[0m\u001b[37m\u001b[0m \u001b[1m2s\u001b[0m 10ms/step - loss: 11.7134 - mae: 11.7134\n",
      "Epoch 59/100\n",
      "\u001b[1m184/184\u001b[0m \u001b[32m━━━━━━━━━━━━━━━━━━━━\u001b[0m\u001b[37m\u001b[0m \u001b[1m2s\u001b[0m 10ms/step - loss: 11.5278 - mae: 11.5278\n",
      "Epoch 60/100\n",
      "\u001b[1m184/184\u001b[0m \u001b[32m━━━━━━━━━━━━━━━━━━━━\u001b[0m\u001b[37m\u001b[0m \u001b[1m2s\u001b[0m 10ms/step - loss: 11.8879 - mae: 11.8879\n",
      "Epoch 61/100\n",
      "\u001b[1m184/184\u001b[0m \u001b[32m━━━━━━━━━━━━━━━━━━━━\u001b[0m\u001b[37m\u001b[0m \u001b[1m5s\u001b[0m 30ms/step - loss: 11.3459 - mae: 11.3459   \n",
      "Epoch 62/100\n",
      "\u001b[1m184/184\u001b[0m \u001b[32m━━━━━━━━━━━━━━━━━━━━\u001b[0m\u001b[37m\u001b[0m \u001b[1m2s\u001b[0m 10ms/step - loss: 11.7403 - mae: 11.7403\n",
      "Epoch 63/100\n",
      "\u001b[1m184/184\u001b[0m \u001b[32m━━━━━━━━━━━━━━━━━━━━\u001b[0m\u001b[37m\u001b[0m \u001b[1m2s\u001b[0m 11ms/step - loss: 11.4114 - mae: 11.4114\n",
      "Epoch 64/100\n",
      "\u001b[1m184/184\u001b[0m \u001b[32m━━━━━━━━━━━━━━━━━━━━\u001b[0m\u001b[37m\u001b[0m \u001b[1m2s\u001b[0m 10ms/step - loss: 11.4493 - mae: 11.4493\n",
      "Epoch 65/100\n",
      "\u001b[1m184/184\u001b[0m \u001b[32m━━━━━━━━━━━━━━━━━━━━\u001b[0m\u001b[37m\u001b[0m \u001b[1m2s\u001b[0m 10ms/step - loss: 11.6117 - mae: 11.6117\n",
      "Epoch 66/100\n",
      "\u001b[1m184/184\u001b[0m \u001b[32m━━━━━━━━━━━━━━━━━━━━\u001b[0m\u001b[37m\u001b[0m \u001b[1m2s\u001b[0m 10ms/step - loss: 11.1562 - mae: 11.1562\n",
      "Epoch 67/100\n",
      "\u001b[1m184/184\u001b[0m \u001b[32m━━━━━━━━━━━━━━━━━━━━\u001b[0m\u001b[37m\u001b[0m \u001b[1m2s\u001b[0m 10ms/step - loss: 11.4595 - mae: 11.4595\n",
      "Epoch 68/100\n",
      "\u001b[1m184/184\u001b[0m \u001b[32m━━━━━━━━━━━━━━━━━━━━\u001b[0m\u001b[37m\u001b[0m \u001b[1m2s\u001b[0m 10ms/step - loss: 11.6207 - mae: 11.6207\n",
      "Epoch 69/100\n",
      "\u001b[1m184/184\u001b[0m \u001b[32m━━━━━━━━━━━━━━━━━━━━\u001b[0m\u001b[37m\u001b[0m \u001b[1m2s\u001b[0m 11ms/step - loss: 11.6699 - mae: 11.6699\n",
      "Epoch 70/100\n",
      "\u001b[1m184/184\u001b[0m \u001b[32m━━━━━━━━━━━━━━━━━━━━\u001b[0m\u001b[37m\u001b[0m \u001b[1m2s\u001b[0m 10ms/step - loss: 11.3169 - mae: 11.3169\n",
      "Epoch 71/100\n",
      "\u001b[1m184/184\u001b[0m \u001b[32m━━━━━━━━━━━━━━━━━━━━\u001b[0m\u001b[37m\u001b[0m \u001b[1m2s\u001b[0m 10ms/step - loss: 11.2962 - mae: 11.2962\n",
      "Epoch 72/100\n",
      "\u001b[1m184/184\u001b[0m \u001b[32m━━━━━━━━━━━━━━━━━━━━\u001b[0m\u001b[37m\u001b[0m \u001b[1m2s\u001b[0m 11ms/step - loss: 11.1763 - mae: 11.1763\n",
      "Epoch 73/100\n",
      "\u001b[1m184/184\u001b[0m \u001b[32m━━━━━━━━━━━━━━━━━━━━\u001b[0m\u001b[37m\u001b[0m \u001b[1m2s\u001b[0m 12ms/step - loss: 11.8620 - mae: 11.8620\n",
      "Epoch 74/100\n",
      "\u001b[1m184/184\u001b[0m \u001b[32m━━━━━━━━━━━━━━━━━━━━\u001b[0m\u001b[37m\u001b[0m \u001b[1m2s\u001b[0m 11ms/step - loss: 11.3435 - mae: 11.3435\n",
      "Epoch 75/100\n",
      "\u001b[1m184/184\u001b[0m \u001b[32m━━━━━━━━━━━━━━━━━━━━\u001b[0m\u001b[37m\u001b[0m \u001b[1m2s\u001b[0m 11ms/step - loss: 11.4124 - mae: 11.4124\n",
      "Epoch 76/100\n",
      "\u001b[1m184/184\u001b[0m \u001b[32m━━━━━━━━━━━━━━━━━━━━\u001b[0m\u001b[37m\u001b[0m \u001b[1m2s\u001b[0m 11ms/step - loss: 12.0025 - mae: 12.0025\n",
      "Epoch 77/100\n",
      "\u001b[1m184/184\u001b[0m \u001b[32m━━━━━━━━━━━━━━━━━━━━\u001b[0m\u001b[37m\u001b[0m \u001b[1m2s\u001b[0m 11ms/step - loss: 11.3064 - mae: 11.3064\n",
      "Epoch 78/100\n",
      "\u001b[1m184/184\u001b[0m \u001b[32m━━━━━━━━━━━━━━━━━━━━\u001b[0m\u001b[37m\u001b[0m \u001b[1m5s\u001b[0m 27ms/step - loss: 11.3721 - mae: 11.3721 \n",
      "Epoch 79/100\n",
      "\u001b[1m184/184\u001b[0m \u001b[32m━━━━━━━━━━━━━━━━━━━━\u001b[0m\u001b[37m\u001b[0m \u001b[1m2s\u001b[0m 11ms/step - loss: 11.3747 - mae: 11.3747\n",
      "Epoch 80/100\n",
      "\u001b[1m184/184\u001b[0m \u001b[32m━━━━━━━━━━━━━━━━━━━━\u001b[0m\u001b[37m\u001b[0m \u001b[1m2s\u001b[0m 11ms/step - loss: 11.8012 - mae: 11.8012\n",
      "Epoch 81/100\n",
      "\u001b[1m184/184\u001b[0m \u001b[32m━━━━━━━━━━━━━━━━━━━━\u001b[0m\u001b[37m\u001b[0m \u001b[1m2s\u001b[0m 11ms/step - loss: 11.6222 - mae: 11.6222\n",
      "Epoch 82/100\n",
      "\u001b[1m184/184\u001b[0m \u001b[32m━━━━━━━━━━━━━━━━━━━━\u001b[0m\u001b[37m\u001b[0m \u001b[1m2s\u001b[0m 13ms/step - loss: 11.5000 - mae: 11.5000\n",
      "Epoch 83/100\n",
      "\u001b[1m184/184\u001b[0m \u001b[32m━━━━━━━━━━━━━━━━━━━━\u001b[0m\u001b[37m\u001b[0m \u001b[1m3s\u001b[0m 17ms/step - loss: 11.7309 - mae: 11.7309\n",
      "Epoch 84/100\n",
      "\u001b[1m184/184\u001b[0m \u001b[32m━━━━━━━━━━━━━━━━━━━━\u001b[0m\u001b[37m\u001b[0m \u001b[1m2s\u001b[0m 12ms/step - loss: 11.3131 - mae: 11.3131\n",
      "Epoch 85/100\n",
      "\u001b[1m184/184\u001b[0m \u001b[32m━━━━━━━━━━━━━━━━━━━━\u001b[0m\u001b[37m\u001b[0m \u001b[1m3s\u001b[0m 15ms/step - loss: 11.5995 - mae: 11.5995\n",
      "Epoch 86/100\n",
      "\u001b[1m184/184\u001b[0m \u001b[32m━━━━━━━━━━━━━━━━━━━━\u001b[0m\u001b[37m\u001b[0m \u001b[1m2s\u001b[0m 12ms/step - loss: 11.7134 - mae: 11.7134\n",
      "Epoch 87/100\n",
      "\u001b[1m184/184\u001b[0m \u001b[32m━━━━━━━━━━━━━━━━━━━━\u001b[0m\u001b[37m\u001b[0m \u001b[1m2s\u001b[0m 11ms/step - loss: 11.3945 - mae: 11.3945\n",
      "Epoch 88/100\n",
      "\u001b[1m184/184\u001b[0m \u001b[32m━━━━━━━━━━━━━━━━━━━━\u001b[0m\u001b[37m\u001b[0m \u001b[1m2s\u001b[0m 11ms/step - loss: 11.6107 - mae: 11.6107\n",
      "Epoch 89/100\n",
      "\u001b[1m184/184\u001b[0m \u001b[32m━━━━━━━━━━━━━━━━━━━━\u001b[0m\u001b[37m\u001b[0m \u001b[1m2s\u001b[0m 11ms/step - loss: 11.4077 - mae: 11.4077\n",
      "Epoch 90/100\n",
      "\u001b[1m184/184\u001b[0m \u001b[32m━━━━━━━━━━━━━━━━━━━━\u001b[0m\u001b[37m\u001b[0m \u001b[1m2s\u001b[0m 11ms/step - loss: 11.4496 - mae: 11.4496\n",
      "Epoch 91/100\n",
      "\u001b[1m184/184\u001b[0m \u001b[32m━━━━━━━━━━━━━━━━━━━━\u001b[0m\u001b[37m\u001b[0m \u001b[1m2s\u001b[0m 12ms/step - loss: 11.5335 - mae: 11.5335\n",
      "Epoch 92/100\n",
      "\u001b[1m184/184\u001b[0m \u001b[32m━━━━━━━━━━━━━━━━━━━━\u001b[0m\u001b[37m\u001b[0m \u001b[1m4s\u001b[0m 23ms/step - loss: 11.5495 - mae: 11.5495\n",
      "Epoch 93/100\n",
      "\u001b[1m184/184\u001b[0m \u001b[32m━━━━━━━━━━━━━━━━━━━━\u001b[0m\u001b[37m\u001b[0m \u001b[1m2s\u001b[0m 12ms/step - loss: 11.3327 - mae: 11.3327\n",
      "Epoch 94/100\n",
      "\u001b[1m184/184\u001b[0m \u001b[32m━━━━━━━━━━━━━━━━━━━━\u001b[0m\u001b[37m\u001b[0m \u001b[1m2s\u001b[0m 12ms/step - loss: 11.4476 - mae: 11.4476\n",
      "Epoch 95/100\n",
      "\u001b[1m184/184\u001b[0m \u001b[32m━━━━━━━━━━━━━━━━━━━━\u001b[0m\u001b[37m\u001b[0m \u001b[1m2s\u001b[0m 10ms/step - loss: 11.2925 - mae: 11.2925\n",
      "Epoch 96/100\n",
      "\u001b[1m184/184\u001b[0m \u001b[32m━━━━━━━━━━━━━━━━━━━━\u001b[0m\u001b[37m\u001b[0m \u001b[1m2s\u001b[0m 11ms/step - loss: 11.3369 - mae: 11.3369\n",
      "Epoch 97/100\n",
      "\u001b[1m184/184\u001b[0m \u001b[32m━━━━━━━━━━━━━━━━━━━━\u001b[0m\u001b[37m\u001b[0m \u001b[1m2s\u001b[0m 12ms/step - loss: 11.5991 - mae: 11.5991\n",
      "Epoch 98/100\n",
      "\u001b[1m184/184\u001b[0m \u001b[32m━━━━━━━━━━━━━━━━━━━━\u001b[0m\u001b[37m\u001b[0m \u001b[1m2s\u001b[0m 12ms/step - loss: 11.4912 - mae: 11.4912\n",
      "Epoch 99/100\n",
      "\u001b[1m184/184\u001b[0m \u001b[32m━━━━━━━━━━━━━━━━━━━━\u001b[0m\u001b[37m\u001b[0m \u001b[1m2s\u001b[0m 12ms/step - loss: 11.3498 - mae: 11.3498\n",
      "Epoch 100/100\n",
      "\u001b[1m184/184\u001b[0m \u001b[32m━━━━━━━━━━━━━━━━━━━━\u001b[0m\u001b[37m\u001b[0m \u001b[1m2s\u001b[0m 12ms/step - loss: 11.3990 - mae: 11.3990\n"
     ]
    },
    {
     "data": {
      "text/plain": [
       "<keras.src.callbacks.history.History at 0x7f7bdc197610>"
      ]
     },
     "execution_count": 21,
     "metadata": {},
     "output_type": "execute_result"
    }
   ],
   "source": [
    "model4=build_cnn_lstm_model()\n",
    "model4.compile(optimizer=\"adam\",metrics=[\"mae\"],loss=\"mae\")\n",
    "model4.fit(X,Y,epochs=100,callbacks=callback)"
   ]
  },
  {
   "cell_type": "code",
   "execution_count": 22,
   "id": "68a373f1-066d-4261-a366-6cc05652f128",
   "metadata": {},
   "outputs": [],
   "source": [
    "# model3.save(\"bpm_model_hm.keras\")\n",
    "model4.save(\"bpm_model_reshaped.keras\")"
   ]
  },
  {
   "cell_type": "code",
   "execution_count": 23,
   "id": "d07c5a69-18eb-496f-87a0-93925ad24b5c",
   "metadata": {},
   "outputs": [
    {
     "data": {
      "text/plain": [
       "(5859, 18, 1)"
      ]
     },
     "execution_count": 23,
     "metadata": {},
     "output_type": "execute_result"
    }
   ],
   "source": [
    "X.shape"
   ]
  },
  {
   "cell_type": "code",
   "execution_count": null,
   "id": "d1c12b18-e215-4408-9b42-3f47e7123058",
   "metadata": {},
   "outputs": [],
   "source": []
  }
 ],
 "metadata": {
  "kernelspec": {
   "display_name": "Python 3 (ipykernel)",
   "language": "python",
   "name": "python3"
  },
  "language_info": {
   "codemirror_mode": {
    "name": "ipython",
    "version": 3
   },
   "file_extension": ".py",
   "mimetype": "text/x-python",
   "name": "python",
   "nbconvert_exporter": "python",
   "pygments_lexer": "ipython3",
   "version": "3.9.21"
  }
 },
 "nbformat": 4,
 "nbformat_minor": 5
}
