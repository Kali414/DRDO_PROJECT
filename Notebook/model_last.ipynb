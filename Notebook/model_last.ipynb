{
 "cells": [
  {
   "cell_type": "code",
   "execution_count": 1,
   "id": "42cb4584-80d5-4eee-8d1d-ac0e6af93cfe",
   "metadata": {},
   "outputs": [
    {
     "name": "stderr",
     "output_type": "stream",
     "text": [
      "2025-05-26 17:00:22.211111: E external/local_xla/xla/stream_executor/cuda/cuda_fft.cc:477] Unable to register cuFFT factory: Attempting to register factory for plugin cuFFT when one has already been registered\n",
      "WARNING: All log messages before absl::InitializeLog() is called are written to STDERR\n",
      "E0000 00:00:1748278822.258925    2080 cuda_dnn.cc:8310] Unable to register cuDNN factory: Attempting to register factory for plugin cuDNN when one has already been registered\n",
      "E0000 00:00:1748278822.284521    2080 cuda_blas.cc:1418] Unable to register cuBLAS factory: Attempting to register factory for plugin cuBLAS when one has already been registered\n",
      "2025-05-26 17:00:22.362988: I tensorflow/core/platform/cpu_feature_guard.cc:210] This TensorFlow binary is optimized to use available CPU instructions in performance-critical operations.\n",
      "To enable the following instructions: AVX2 FMA, in other operations, rebuild TensorFlow with the appropriate compiler flags.\n"
     ]
    }
   ],
   "source": [
    "import tensorflow as tf\n",
    "from tensorflow.keras import layers, models"
   ]
  },
  {
   "cell_type": "code",
   "execution_count": 2,
   "id": "4f098124-decd-4278-887f-67a578925e02",
   "metadata": {},
   "outputs": [],
   "source": [
    "from tensorflow.keras.layers import Dropout, BatchNormalization\n",
    "from tensorflow.keras.layers import Add\n",
    "\n",
    "def build_cnn_lstm_model():\n",
    "    inputs = tf.keras.Input(shape=(18, 1))  # Shape: (timesteps, features)\n",
    "\n",
    "    # CNN part\n",
    "    x = layers.Conv1D(32, kernel_size=3, padding=\"same\", activation=\"relu\")(inputs)\n",
    "    x = layers.MaxPooling1D(pool_size=2)(x)\n",
    "\n",
    "    # After first Conv1D and MaxPooling\n",
    "    shortcut = x\n",
    "    x = layers.Conv1D(32, kernel_size=3, padding=\"same\", activation=\"relu\")(x)\n",
    "    x = Add()([shortcut, x])  # Residual connection\n",
    "\n",
    "    # LSTM part\n",
    "    x = layers.Bidirectional(layers.LSTM(64, return_sequences=True, activation=\"tanh\"))(x)\n",
    "    x = Dropout(0.2)(x)\n",
    "    x = BatchNormalization()(x)\n",
    "\n",
    "    x = layers.Bidirectional(layers.LSTM(128, return_sequences=True, activation=\"tanh\"))(x)  # Final LSTM layer\n",
    "    x = Dropout(0.2)(x)\n",
    "    x = BatchNormalization()(x)\n",
    "\n",
    "    # Dense layers\n",
    "    x = layers.Dense(256, activation=\"relu\")(x)\n",
    "    x = Dropout(0.3)(x)\n",
    "    x = BatchNormalization()(x)\n",
    "\n",
    "    x = layers.Dense(512, activation=\"relu\")(x)\n",
    "    outputs = layers.Dense(1)(x)  # Regression output (e.g., BPM)\n",
    "\n",
    "    model = tf.keras.Model(inputs, outputs)\n",
    "    return model\n"
   ]
  },
  {
   "cell_type": "code",
   "execution_count": 3,
   "id": "1376316e-a657-4d40-833c-abaa2a4fc4b9",
   "metadata": {},
   "outputs": [],
   "source": [
    "callback=tf.keras.callbacks.EarlyStopping(\n",
    "    monitor='val_loss',\n",
    "    min_delta=0,\n",
    "    patience=0,\n",
    "    verbose=0,\n",
    "    mode='auto',\n",
    "    baseline=None,\n",
    "    restore_best_weights=False,\n",
    "    start_from_epoch=0\n",
    ")"
   ]
  },
  {
   "cell_type": "code",
   "execution_count": 4,
   "id": "93de8fcf-e6c9-4476-9e23-cc1064d1adf0",
   "metadata": {},
   "outputs": [
    {
     "name": "stderr",
     "output_type": "stream",
     "text": [
      "I0000 00:00:1748278827.572615    2080 gpu_device.cc:2022] Created device /job:localhost/replica:0/task:0/device:GPU:0 with 2248 MB memory:  -> device: 0, name: NVIDIA GeForce GTX 1650, pci bus id: 0000:01:00.0, compute capability: 7.5\n"
     ]
    }
   ],
   "source": [
    "lr_schedule = tf.keras.optimizers.schedules.ExponentialDecay(\n",
    "    initial_learning_rate=1e-3,\n",
    "    decay_steps=10000,\n",
    "    decay_rate=0.9\n",
    ")\n",
    "optimizer = tf.keras.optimizers.Adam(learning_rate=lr_schedule)"
   ]
  },
  {
   "cell_type": "code",
   "execution_count": 5,
   "id": "328f6c19-def3-4a08-a42a-9408bdab697c",
   "metadata": {},
   "outputs": [],
   "source": [
    "model=build_cnn_lstm_model()"
   ]
  },
  {
   "cell_type": "code",
   "execution_count": 6,
   "id": "7290e20c-ad44-4184-b780-afc24256f001",
   "metadata": {},
   "outputs": [],
   "source": [
    "model.compile(optimizer=optimizer, loss='huber', metrics=['mae'])"
   ]
  },
  {
   "cell_type": "code",
   "execution_count": 7,
   "id": "08751970-e8d8-4d8f-98ca-e29991035686",
   "metadata": {},
   "outputs": [],
   "source": [
    "import numpy as np"
   ]
  },
  {
   "cell_type": "code",
   "execution_count": 8,
   "id": "b041502b-d486-418a-88c3-6e4c3deb5a14",
   "metadata": {},
   "outputs": [],
   "source": [
    "X1=np.load(\"input1_reshaped.npy\")\n",
    "Y1=np.load(\"out1_reshaped.npy\")\n",
    "\n",
    "X2=np.load(\"input2_reshaped.npy\")\n",
    "Y2=np.load(\"out2_reshaped.npy\")"
   ]
  },
  {
   "cell_type": "code",
   "execution_count": 9,
   "id": "bd4e7af8-4c86-45ad-8aa6-b13e7dcb3794",
   "metadata": {
    "scrolled": true
   },
   "outputs": [
    {
     "data": {
      "text/plain": [
       "array([[[117.54315336],\n",
       "        [117.54315336],\n",
       "        [117.2005136 ],\n",
       "        ...,\n",
       "        [117.28275571],\n",
       "        [117.28275571],\n",
       "        [117.41480498]],\n",
       "\n",
       "       [[117.41480498],\n",
       "        [117.41480498],\n",
       "        [117.29173759],\n",
       "        ...,\n",
       "        [118.23561728],\n",
       "        [118.23561728],\n",
       "        [118.31317935]],\n",
       "\n",
       "       [[118.31317935],\n",
       "        [118.37470463],\n",
       "        [118.37470463],\n",
       "        ...,\n",
       "        [119.79420653],\n",
       "        [120.12570888],\n",
       "        [120.12570888]],\n",
       "\n",
       "       ...,\n",
       "\n",
       "       [[100.69482022],\n",
       "        [100.69482022],\n",
       "        [101.64573269],\n",
       "        ...,\n",
       "        [ 99.62628667],\n",
       "        [ 99.62628667],\n",
       "        [ 98.59385419]],\n",
       "\n",
       "       [[ 98.59385419],\n",
       "        [ 98.42204435],\n",
       "        [ 98.42204435],\n",
       "        ...,\n",
       "        [ 97.53497031],\n",
       "        [ 98.18329085],\n",
       "        [ 98.18329085]],\n",
       "\n",
       "       [[ 98.18329085],\n",
       "        [ 97.99323596],\n",
       "        [ 97.99323596],\n",
       "        ...,\n",
       "        [ 97.91814895],\n",
       "        [ 97.94346222],\n",
       "        [ 97.94346222]]])"
      ]
     },
     "execution_count": 9,
     "metadata": {},
     "output_type": "execute_result"
    }
   ],
   "source": [
    "X1"
   ]
  },
  {
   "cell_type": "code",
   "execution_count": 10,
   "id": "5966f013-b906-429d-a50a-3b0221e7f6ef",
   "metadata": {},
   "outputs": [],
   "source": [
    "X=np.vstack([X1,X2])\n",
    "Y=np.vstack([Y1,Y2])"
   ]
  },
  {
   "cell_type": "code",
   "execution_count": 11,
   "id": "23abfc26-ebda-46b8-85eb-b8098fed0420",
   "metadata": {
    "scrolled": true
   },
   "outputs": [
    {
     "data": {
      "text/plain": [
       "array([[[117.54315336],\n",
       "        [117.54315336],\n",
       "        [117.2005136 ],\n",
       "        ...,\n",
       "        [117.28275571],\n",
       "        [117.28275571],\n",
       "        [117.41480498]],\n",
       "\n",
       "       [[117.41480498],\n",
       "        [117.41480498],\n",
       "        [117.29173759],\n",
       "        ...,\n",
       "        [118.23561728],\n",
       "        [118.23561728],\n",
       "        [118.31317935]],\n",
       "\n",
       "       [[118.31317935],\n",
       "        [118.37470463],\n",
       "        [118.37470463],\n",
       "        ...,\n",
       "        [119.79420653],\n",
       "        [120.12570888],\n",
       "        [120.12570888]],\n",
       "\n",
       "       ...,\n",
       "\n",
       "       [[132.44560167],\n",
       "        [132.29570582],\n",
       "        [132.31129052],\n",
       "        ...,\n",
       "        [132.2343775 ],\n",
       "        [132.2528441 ],\n",
       "        [132.50644531]],\n",
       "\n",
       "       [[132.49823978],\n",
       "        [132.17023003],\n",
       "        [132.54125   ],\n",
       "        ...,\n",
       "        [132.14235988],\n",
       "        [132.44257552],\n",
       "        [132.17748507]],\n",
       "\n",
       "       [[132.350625  ],\n",
       "        [132.33976563],\n",
       "        [132.43261719],\n",
       "        ...,\n",
       "        [132.08227523],\n",
       "        [132.08227523],\n",
       "        [132.37498553]]])"
      ]
     },
     "execution_count": 11,
     "metadata": {},
     "output_type": "execute_result"
    }
   ],
   "source": [
    "X"
   ]
  },
  {
   "cell_type": "code",
   "execution_count": 12,
   "id": "0b32098d-a32a-421a-927a-f53039270bdb",
   "metadata": {},
   "outputs": [
    {
     "name": "stdout",
     "output_type": "stream",
     "text": [
      "(2082, 18, 1)\n",
      "(5859, 18, 1)\n"
     ]
    }
   ],
   "source": [
    "print(X1.shape)\n",
    "print(X.shape)"
   ]
  },
  {
   "cell_type": "code",
   "execution_count": 16,
   "id": "aabe49ce-79de-4bd6-b00c-9bb922ba78a1",
   "metadata": {},
   "outputs": [
    {
     "name": "stdout",
     "output_type": "stream",
     "text": [
      "Epoch 1/100\n",
      "\u001b[1m107/107\u001b[0m \u001b[32m━━━━━━━━━━━━━━━━━━━━\u001b[0m\u001b[37m\u001b[0m \u001b[1m7s\u001b[0m 65ms/step - loss: 3.6984 - mae: 4.1672 - val_loss: 3.0466 - val_mae: 3.5004\n",
      "Epoch 2/100\n",
      "\u001b[1m107/107\u001b[0m \u001b[32m━━━━━━━━━━━━━━━━━━━━\u001b[0m\u001b[37m\u001b[0m \u001b[1m11s\u001b[0m 103ms/step - loss: 2.9812 - mae: 3.4452 - val_loss: 2.6949 - val_mae: 3.1551\n",
      "Epoch 3/100\n",
      "\u001b[1m107/107\u001b[0m \u001b[32m━━━━━━━━━━━━━━━━━━━━\u001b[0m\u001b[37m\u001b[0m \u001b[1m7s\u001b[0m 64ms/step - loss: 3.0353 - mae: 3.4962 - val_loss: 2.9598 - val_mae: 3.4064\n"
     ]
    }
   ],
   "source": [
    "history=model.fit(X2,Y2,epochs=100,callbacks=callback,validation_split=0.1)"
   ]
  },
  {
   "cell_type": "code",
   "execution_count": 17,
   "id": "6ff125e5-d800-4f1e-9bfa-c5f7f9699ca0",
   "metadata": {},
   "outputs": [],
   "source": [
    "model.save(\"bpm_model_d2.keras\")"
   ]
  },
  {
   "cell_type": "code",
   "execution_count": null,
   "id": "0899c448-0eba-43e9-8ad6-8d9c65534542",
   "metadata": {},
   "outputs": [],
   "source": []
  }
 ],
 "metadata": {
  "kernelspec": {
   "display_name": "Python 3 (ipykernel)",
   "language": "python",
   "name": "python3"
  },
  "language_info": {
   "codemirror_mode": {
    "name": "ipython",
    "version": 3
   },
   "file_extension": ".py",
   "mimetype": "text/x-python",
   "name": "python",
   "nbconvert_exporter": "python",
   "pygments_lexer": "ipython3",
   "version": "3.9.21"
  }
 },
 "nbformat": 4,
 "nbformat_minor": 5
}
