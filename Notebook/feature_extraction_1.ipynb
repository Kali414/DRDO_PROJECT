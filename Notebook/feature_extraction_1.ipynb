{
 "cells": [
  {
   "cell_type": "code",
   "execution_count": 1,
   "id": "faff9f48",
   "metadata": {},
   "outputs": [],
   "source": [
    "import cv2 as cv \n",
    "import numpy as np\n",
    "import pandas as pd\n",
    "\n",
    "import os\n",
    "import glob"
   ]
  },
  {
   "cell_type": "code",
   "execution_count": 2,
   "id": "a7d40251",
   "metadata": {},
   "outputs": [],
   "source": [
    "X = []\n",
    "Y = []\n",
    "DIR = r\"E:\\Dataset\"\n",
    "\n",
    "classifier = cv.CascadeClassifier(cv.data.haarcascades + \"haarcascade_frontalface_default.xml\")"
   ]
  },
  {
   "cell_type": "code",
   "execution_count": 3,
   "id": "69dca12c",
   "metadata": {},
   "outputs": [],
   "source": [
    "from scipy.signal import butter, filtfilt\n",
    "import numpy as np\n",
    "\n",
    "def temporal_bandpass_filter(signal, fs, low=0.7, high=4.0):\n",
    "    nyq = fs / 2\n",
    "    low /= nyq\n",
    "    high /= nyq\n",
    "    b, a = butter(3, [low, high], btype='band')\n",
    "    return filtfilt(b, a, signal)\n",
    "\n",
    "def amplify_eulerian(signal, fs, alpha=50):\n",
    "    filtered = temporal_bandpass_filter(signal, fs)\n",
    "    amplified = filtered * alpha\n",
    "    return signal + amplified  # Enhanced signal"
   ]
  },
  {
   "cell_type": "code",
   "execution_count": 4,
   "id": "6a20cceb",
   "metadata": {},
   "outputs": [],
   "source": [
    "# def extract_face_roi_means(frame):\n",
    "#     gray = cv.cvtColor(frame, cv.COLOR_BGR2GRAY)\n",
    "#     green = frame[:, :, 1]  # Extract green channel\n",
    "\n",
    "#     faces = classifier.detectMultiScale(gray, scaleFactor=1.1, minNeighbors=3)\n",
    "#     if len(faces) == 0:\n",
    "#         return None\n",
    "\n",
    "#     x, y, w, h = faces[0]  # Use the first face\n",
    "\n",
    "#     # Define ROIs based on face box proportions\n",
    "#     roi_means = 0\n",
    "\n",
    "#     # Forehead region (top center)\n",
    "#     fh_x1 = x + int(0.3 * w)\n",
    "#     fh_x2 = x + int(0.7 * w)\n",
    "#     fh_y1 = y + int(0.05 * h)\n",
    "#     fh_y2 = y + int(0.25 * h)\n",
    "#     forehead = green[fh_y1:fh_y2, fh_x1:fh_x2]\n",
    "#     roi_means+= np.mean(forehead)\n",
    "\n",
    "#     # Left cheek\n",
    "#     lc_x1 = x + int(0.05 * w)\n",
    "#     lc_x2 = x + int(0.3 * w)\n",
    "#     lc_y1 = y + int(0.5 * h)\n",
    "#     lc_y2 = y + int(0.75 * h)\n",
    "#     left_cheek = green[lc_y1:lc_y2, lc_x1:lc_x2]\n",
    "#     roi_means+= np.mean(left_cheek)\n",
    "\n",
    "#     # Right cheek\n",
    "#     rc_x1 = x + int(0.7 * w)\n",
    "#     rc_x2 = x + int(0.95 * w)\n",
    "#     rc_y1 = lc_y1\n",
    "#     rc_y2 = lc_y2\n",
    "#     right_cheek = green[rc_y1:rc_y2, rc_x1:rc_x2]\n",
    "#     roi_means+= np.mean(right_cheek)\n",
    "\n",
    "#     # Chin\n",
    "#     ch_x1 = x + int(0.4 * w)\n",
    "#     ch_x2 = x + int(0.6 * w)\n",
    "#     ch_y1 = y + int(0.8 * h)\n",
    "#     ch_y2 = y + int(0.95 * h)\n",
    "#     chin = green[ch_y1:ch_y2, ch_x1:ch_x2]\n",
    "#     roi_means+= np.mean(chin)\n",
    "\n",
    "#     return roi_means/4\n"
   ]
  },
  {
   "cell_type": "code",
   "execution_count": 5,
   "id": "d7975080",
   "metadata": {},
   "outputs": [],
   "source": [
    "# for x in os.listdir(DIR):\n",
    "#     folder_path = os.path.join(DIR, x)\n",
    "#     if not os.path.isdir(folder_path):\n",
    "#         continue\n",
    "\n",
    "#     video_list = glob.glob(os.path.join(folder_path, '*.avi'))\n",
    "#     csv_list = glob.glob(os.path.join(folder_path, '*.csv'))\n",
    "\n",
    "#     if not video_list or not csv_list:\n",
    "#         continue\n",
    "\n",
    "#     video = video_list[0]\n",
    "#     csv = csv_list[0]\n",
    "\n",
    "#     cap = cv.VideoCapture(video)\n",
    "#     df = pd.read_csv(csv)\n",
    "\n",
    "#     fps = cap.get(cv.CAP_PROP_FPS)\n",
    "    \n",
    "#     X_feature = []\n",
    "#     Y_feature = []\n",
    "\n",
    "#     total_rows = len(df)\n",
    "#     usable_rows = total_rows - (total_rows % 24)\n",
    "\n",
    "#     for i in range(usable_rows):\n",
    "#         timestamp_ms = df[\"Timestep (ms)\"][i]\n",
    "#         frame_number = int((timestamp_ms / 1000.0) * fps)\n",
    "#         cap.set(cv.CAP_PROP_POS_FRAMES, frame_number)\n",
    "\n",
    "#         ret, frame = cap.read()\n",
    "#         if not ret:\n",
    "#             break\n",
    "        \n",
    "#         mean_g = np.mean(frame[:,:,1])\n",
    "\n",
    "#         X_feature.append(mean_g)\n",
    "#         Y_feature.append(df[\"Heart rate (HR)\"][i])\n",
    "\n",
    "#     b = int(len(X_feature) / 24)\n",
    "#     print(f\"Processing {x}: {b} batches of 24 frames\")\n",
    "    \n",
    "#     X_feature = np.array(X_feature[:b*24]).reshape(b, 24, 1)   \n",
    "#     Y_feature = np.array(Y_feature[:b*24]).reshape(b, 24)\n",
    "\n",
    "#     X.append(X_feature)\n",
    "#     Y.append(Y_feature)\n"
   ]
  },
  {
   "cell_type": "code",
   "execution_count": 6,
   "id": "f91a28df",
   "metadata": {},
   "outputs": [
    {
     "name": "stdout",
     "output_type": "stream",
     "text": [
      "Processing 11-gt: 207 batches of 24 frames\n",
      "Processing 12-gt: 215 batches of 24 frames\n",
      "Processing 5-gt: 217 batches of 24 frames\n",
      "Processing 6-gt: 215 batches of 24 frames\n",
      "Processing 7-gt: 213 batches of 24 frames\n",
      "Processing 8-gt: 189 batches of 24 frames\n",
      "Processing after-exercise: 304 batches of 24 frames\n"
     ]
    }
   ],
   "source": [
    "## use of bandpassfilter and amplify_eulerian\n",
    "for x in os.listdir(DIR):\n",
    "    folder_path = os.path.join(DIR, x)\n",
    "    if not os.path.isdir(folder_path):\n",
    "        continue\n",
    "\n",
    "    video_list = glob.glob(os.path.join(folder_path, '*.avi'))\n",
    "    csv_list = glob.glob(os.path.join(folder_path, '*.csv'))\n",
    "\n",
    "    if not video_list or not csv_list:\n",
    "        continue\n",
    "\n",
    "    video = video_list[0]\n",
    "    csv = csv_list[0]\n",
    "\n",
    "    cap = cv.VideoCapture(video)\n",
    "    df = pd.read_csv(csv)\n",
    "\n",
    "    fps = cap.get(cv.CAP_PROP_FPS)\n",
    "    \n",
    "    X_feature = []\n",
    "    Y_feature = []\n",
    "\n",
    "    total_rows = len(df)\n",
    "    usable_rows = total_rows - (total_rows % 24)\n",
    "\n",
    "    for i in range(usable_rows):\n",
    "        timestamp_ms = df[\"Timestep (ms)\"][i]\n",
    "        frame_number = int((timestamp_ms / 1000.0) * fps)\n",
    "        cap.set(cv.CAP_PROP_POS_FRAMES, frame_number)\n",
    "\n",
    "        ret, frame = cap.read()\n",
    "        if not ret:\n",
    "            break\n",
    "        \n",
    "        mean_g = np.mean(frame[:,:,1])\n",
    "\n",
    "        X_feature.append(mean_g)\n",
    "        Y_feature.append(df[\"Heart rate (HR)\"][i])\n",
    "\n",
    "    b = int(len(X_feature) / 24)\n",
    "    print(f\"Processing {x}: {b} batches of 24 frames\")\n",
    "\n",
    "    X_signal=temporal_bandpass_filter(X_feature, 25, low=0.7, high=4.0)\n",
    "    X_amplified=amplify_eulerian(X_signal, 25, alpha=50)\n",
    "    \n",
    "    X_feature = np.array(X_amplified[:b*24]).reshape(b, 24, 1)   \n",
    "    Y_feature = np.array(Y_feature[:b*24]).reshape(b, 24)\n",
    "\n",
    "    X.append(X_feature)\n",
    "    Y.append(Y_feature)\n"
   ]
  },
  {
   "cell_type": "code",
   "execution_count": 7,
   "id": "3c24a9d7-58b9-40ef-8bb7-b24a3ad99f97",
   "metadata": {},
   "outputs": [],
   "source": [
    "# ##Mediapipe feature extraction 1\n",
    "\n",
    "# import os\n",
    "# import glob\n",
    "# import cv2 as cv\n",
    "# import numpy as np\n",
    "# import pandas as pd\n",
    "# import mediapipe as mp\n",
    "\n",
    "# X = []\n",
    "# Y = []\n",
    "\n",
    "# mp_face_detection = mp.solutions.face_detection\n",
    "# mp_drawing = mp.solutions.drawing_utils\n",
    "\n",
    "# with mp_face_detection.FaceDetection(model_selection=0, min_detection_confidence=0.5) as face_detection:\n",
    "\n",
    "#     for x in os.listdir(DIR):\n",
    "#         folder_path = os.path.join(DIR, x)\n",
    "#         if not os.path.isdir(folder_path):\n",
    "#             continue\n",
    "\n",
    "#         video_list = glob.glob(os.path.join(folder_path, '*.avi'))\n",
    "#         csv_list = glob.glob(os.path.join(folder_path, '*.csv'))\n",
    "\n",
    "#         if not video_list or not csv_list:\n",
    "#             continue\n",
    "\n",
    "#         video = video_list[0]\n",
    "#         csv = csv_list[0]\n",
    "\n",
    "#         cap = cv.VideoCapture(video)\n",
    "#         df = pd.read_csv(csv)\n",
    "\n",
    "#         fps = cap.get(cv.CAP_PROP_FPS)\n",
    "\n",
    "#         X_feature = []\n",
    "#         Y_feature = []\n",
    "\n",
    "#         total_rows = len(df)\n",
    "#         usable_rows = total_rows - (total_rows % 24)\n",
    "\n",
    "#         for i in range(usable_rows):\n",
    "#             timestamp_ms = df[\"Timestep (ms)\"][i]\n",
    "#             frame_number = int((timestamp_ms / 1000.0) * fps)\n",
    "#             cap.set(cv.CAP_PROP_POS_FRAMES, frame_number)\n",
    "\n",
    "#             ret, frame = cap.read()\n",
    "#             if not ret:\n",
    "#                 break\n",
    "\n",
    "#             # Convert BGR to RGB for MediaPipe\n",
    "#             rgb = cv.cvtColor(frame, cv.COLOR_BGR2RGB)\n",
    "\n",
    "#             results = face_detection.process(rgb)\n",
    "\n",
    "#             if not results.detections:\n",
    "#                 continue\n",
    "\n",
    "#             # Use the first detected face\n",
    "#             detection = results.detections[0]\n",
    "#             bbox = detection.location_data.relative_bounding_box\n",
    "\n",
    "#             h, w, _ = frame.shape\n",
    "#             x = int(bbox.xmin * w)\n",
    "#             y = int(bbox.ymin * h)\n",
    "#             w_box = int(bbox.width * w)\n",
    "#             h_box = int(bbox.height * h)\n",
    "\n",
    "#             # Clamp coordinates to image bounds\n",
    "#             x = max(0, x)\n",
    "#             y = max(0, y)\n",
    "#             x2 = min(frame.shape[1], x + w_box)\n",
    "#             y2 = min(frame.shape[0], y + h_box)\n",
    "\n",
    "#             green = frame[:, :, 1]\n",
    "#             face_green = green[y:y2, x:x2]\n",
    "\n",
    "#             if face_green.size == 0:\n",
    "#                 continue\n",
    "\n",
    "#             mean_g = np.mean(face_green)\n",
    "\n",
    "#             X_feature.append([mean_g])\n",
    "#             Y_feature.append([df[\"Heart rate (HR)\"][i]])\n",
    "\n",
    "#         b = int(len(X_feature) / 24)\n",
    "#         X_feature = np.array(X_feature[:b*24]).reshape(b, 24, 1)\n",
    "#         Y_feature = np.array(Y_feature[:b*24]).reshape(b, 24)\n",
    "\n",
    "#         X.append(X_feature)\n",
    "#         Y.append(Y_feature)\n"
   ]
  },
  {
   "cell_type": "code",
   "execution_count": 8,
   "id": "8bcbc525",
   "metadata": {},
   "outputs": [
    {
     "data": {
      "text/plain": [
       "7"
      ]
     },
     "execution_count": 8,
     "metadata": {},
     "output_type": "execute_result"
    }
   ],
   "source": [
    "len(X)"
   ]
  },
  {
   "cell_type": "code",
   "execution_count": 9,
   "id": "56713b82",
   "metadata": {},
   "outputs": [
    {
     "name": "stdout",
     "output_type": "stream",
     "text": [
      "217\n"
     ]
    }
   ],
   "source": [
    "print(len(X[2]))"
   ]
  },
  {
   "cell_type": "code",
   "execution_count": 10,
   "id": "c93696dd",
   "metadata": {},
   "outputs": [
    {
     "data": {
      "text/plain": [
       "215"
      ]
     },
     "execution_count": 10,
     "metadata": {},
     "output_type": "execute_result"
    }
   ],
   "source": [
    "len(X[1])"
   ]
  },
  {
   "cell_type": "code",
   "execution_count": 11,
   "id": "6c381ea9",
   "metadata": {},
   "outputs": [],
   "source": [
    "X1 = np.vstack(X)  # or np.concatenate(X, axis=0) depending on shape\n",
    "Y1 = np.vstack(Y)\n",
    "\n",
    "np.save(\"input1_signal.npy\", X1)\n",
    "np.save(\"output1_signal.npy\", Y1)\n"
   ]
  },
  {
   "cell_type": "code",
   "execution_count": 12,
   "id": "d9a640d5",
   "metadata": {},
   "outputs": [
    {
     "data": {
      "text/plain": [
       "(1560, 24, 1)"
      ]
     },
     "execution_count": 12,
     "metadata": {},
     "output_type": "execute_result"
    }
   ],
   "source": [
    "X1.shape"
   ]
  },
  {
   "cell_type": "code",
   "execution_count": 13,
   "id": "027ee28b",
   "metadata": {},
   "outputs": [
    {
     "data": {
      "text/plain": [
       "7"
      ]
     },
     "execution_count": 13,
     "metadata": {},
     "output_type": "execute_result"
    }
   ],
   "source": [
    "len(X)"
   ]
  },
  {
   "cell_type": "code",
   "execution_count": 14,
   "id": "812cfca3",
   "metadata": {},
   "outputs": [
    {
     "data": {
      "text/plain": [
       "7"
      ]
     },
     "execution_count": 14,
     "metadata": {},
     "output_type": "execute_result"
    }
   ],
   "source": [
    "len(Y)"
   ]
  },
  {
   "cell_type": "code",
   "execution_count": 15,
   "id": "671e37f4",
   "metadata": {},
   "outputs": [
    {
     "data": {
      "text/plain": [
       "[array([[75, 75, 75, ..., 75, 75, 75],\n",
       "        [75, 75, 75, ..., 75, 75, 75],\n",
       "        [75, 75, 75, ..., 75, 75, 75],\n",
       "        ...,\n",
       "        [74, 75, 75, ..., 75, 75, 75],\n",
       "        [75, 75, 75, ..., 75, 75, 75],\n",
       "        [75, 75, 75, ..., 75, 75, 75]], dtype=int64),\n",
       " array([[100, 100, 100, ..., 100, 100, 100],\n",
       "        [100, 100,  99, ...,  99,  99,  99],\n",
       "        [ 99,  99,  99, ...,  99,  99,  99],\n",
       "        ...,\n",
       "        [ 95,  95,  95, ...,  95,  95,  95],\n",
       "        [ 95,  95,  95, ...,  95,  95,  95],\n",
       "        [ 95,  95,  95, ...,  95,  95,  95]], dtype=int64),\n",
       " array([[68, 68, 68, ..., 68, 68, 68],\n",
       "        [68, 68, 68, ..., 68, 68, 68],\n",
       "        [68, 68, 68, ..., 68, 68, 68],\n",
       "        ...,\n",
       "        [82, 82, 82, ..., 82, 82, 82],\n",
       "        [83, 83, 83, ..., 83, 83, 83],\n",
       "        [83, 83, 83, ..., 83, 83, 83]], dtype=int64),\n",
       " array([[78, 78, 78, ..., 78, 78, 78],\n",
       "        [78, 78, 78, ..., 78, 78, 78],\n",
       "        [78, 78, 78, ..., 78, 78, 78],\n",
       "        ...,\n",
       "        [81, 81, 81, ..., 81, 81, 80],\n",
       "        [80, 80, 80, ..., 80, 80, 80],\n",
       "        [80, 80, 80, ..., 80, 80, 80]], dtype=int64),\n",
       " array([[91, 91, 91, ..., 91, 91, 91],\n",
       "        [91, 91, 91, ..., 91, 91, 91],\n",
       "        [91, 91, 91, ..., 91, 91, 91],\n",
       "        ...,\n",
       "        [93, 93, 93, ..., 92, 92, 92],\n",
       "        [92, 92, 92, ..., 92, 92, 92],\n",
       "        [92, 92, 92, ..., 92, 92, 92]], dtype=int64),\n",
       " array([[73, 73, 73, ..., 73, 73, 73],\n",
       "        [73, 73, 73, ..., 73, 73, 73],\n",
       "        [73, 73, 73, ..., 73, 73, 73],\n",
       "        ...,\n",
       "        [63, 63, 63, ..., 63, 63, 63],\n",
       "        [63, 63, 63, ..., 64, 64, 64],\n",
       "        [64, 64, 64, ..., 64, 64, 64]], dtype=int64),\n",
       " array([[148, 148, 148, ..., 148, 148, 148],\n",
       "        [148, 148, 148, ..., 148, 148, 148],\n",
       "        [148, 148, 148, ..., 148, 148, 148],\n",
       "        ...,\n",
       "        [100, 100, 100, ..., 100, 100, 100],\n",
       "        [100, 100, 100, ...,  99,  99,  99],\n",
       "        [ 99,  99,  99, ...,  99,  99,  99]], dtype=int64)]"
      ]
     },
     "execution_count": 15,
     "metadata": {},
     "output_type": "execute_result"
    }
   ],
   "source": [
    "Y"
   ]
  },
  {
   "cell_type": "code",
   "execution_count": 16,
   "id": "0ea37e0f",
   "metadata": {},
   "outputs": [],
   "source": [
    "out=np.mean(Y1,axis=1).astype(\"int64\")\n",
    "out=out.reshape(-1,1)"
   ]
  },
  {
   "cell_type": "code",
   "execution_count": 17,
   "id": "f29de566",
   "metadata": {},
   "outputs": [
    {
     "data": {
      "text/plain": [
       "array([[ 75],\n",
       "       [ 75],\n",
       "       [ 75],\n",
       "       ...,\n",
       "       [100],\n",
       "       [ 99],\n",
       "       [ 99]], dtype=int64)"
      ]
     },
     "execution_count": 17,
     "metadata": {},
     "output_type": "execute_result"
    }
   ],
   "source": [
    "out"
   ]
  },
  {
   "cell_type": "code",
   "execution_count": 18,
   "id": "d1b3d7ec",
   "metadata": {},
   "outputs": [],
   "source": [
    "np.save(\"out1_signal.npy\", out)"
   ]
  },
  {
   "cell_type": "code",
   "execution_count": 19,
   "id": "20d0e37e",
   "metadata": {},
   "outputs": [
    {
     "data": {
      "text/plain": [
       "1560"
      ]
     },
     "execution_count": 19,
     "metadata": {},
     "output_type": "execute_result"
    }
   ],
   "source": [
    "len(out)"
   ]
  },
  {
   "cell_type": "code",
   "execution_count": 20,
   "id": "378131f5",
   "metadata": {},
   "outputs": [
    {
     "data": {
      "text/plain": [
       "1560"
      ]
     },
     "execution_count": 20,
     "metadata": {},
     "output_type": "execute_result"
    }
   ],
   "source": [
    "len(out)"
   ]
  },
  {
   "cell_type": "code",
   "execution_count": 21,
   "id": "9a2b738f",
   "metadata": {},
   "outputs": [
    {
     "data": {
      "text/plain": [
       "(1560, 24, 1)"
      ]
     },
     "execution_count": 21,
     "metadata": {},
     "output_type": "execute_result"
    }
   ],
   "source": [
    "X1.shape"
   ]
  },
  {
   "cell_type": "code",
   "execution_count": 22,
   "id": "22090875",
   "metadata": {},
   "outputs": [],
   "source": [
    "# df=pd.read_csv(r\"E:\\Dataset-2\\subject8\\ground_truth.txt\",delimiter=\"/t\")"
   ]
  },
  {
   "cell_type": "code",
   "execution_count": 23,
   "id": "a5341426",
   "metadata": {},
   "outputs": [],
   "source": [
    "# df"
   ]
  },
  {
   "cell_type": "code",
   "execution_count": 24,
   "id": "0be1b1c1",
   "metadata": {},
   "outputs": [],
   "source": [
    "# with open('E:\\Dataset-2\\subject8\\ground_truth.txt', 'r') as f:\n",
    "#     lines = f.readlines()\n",
    "\n",
    "# ppg_values = list(map(float, lines[0].strip().split()))\n",
    "# hr_values = list(map(float, lines[1].strip().split()))\n",
    "# time_values = list(map(float, lines[2].strip().split()))"
   ]
  },
  {
   "cell_type": "code",
   "execution_count": 25,
   "id": "433309bd",
   "metadata": {},
   "outputs": [],
   "source": [
    "# ppg_values"
   ]
  },
  {
   "cell_type": "code",
   "execution_count": 26,
   "id": "532b904e",
   "metadata": {},
   "outputs": [],
   "source": [
    "# print(len(time_values))\n",
    "# print(len(ppg_values))\n",
    "# print(len(hr_values))\n",
    "\n"
   ]
  },
  {
   "cell_type": "code",
   "execution_count": 27,
   "id": "e00441e6",
   "metadata": {},
   "outputs": [],
   "source": [
    "# hr_values"
   ]
  },
  {
   "cell_type": "code",
   "execution_count": 28,
   "id": "1125b905",
   "metadata": {},
   "outputs": [],
   "source": [
    "# time_values"
   ]
  },
  {
   "cell_type": "code",
   "execution_count": 29,
   "id": "523c7c1d",
   "metadata": {},
   "outputs": [],
   "source": [
    "input1=np.load(\"input1_signal.npy\")\n",
    "output1=np.load(\"out1_signal.npy\")"
   ]
  },
  {
   "cell_type": "code",
   "execution_count": 31,
   "id": "65df512b",
   "metadata": {},
   "outputs": [
    {
     "data": {
      "text/plain": [
       "(1560, 24, 1)"
      ]
     },
     "execution_count": 31,
     "metadata": {},
     "output_type": "execute_result"
    }
   ],
   "source": [
    "input1.shape"
   ]
  },
  {
   "cell_type": "code",
   "execution_count": 41,
   "id": "69c782c2",
   "metadata": {},
   "outputs": [
    {
     "name": "stdout",
     "output_type": "stream",
     "text": [
      "[ 62  63  64  65  66  67  68  69  70  71  72  73  74  75  76  77  78  79\n",
      "  80  81  82  83  84  85  86  87  88  89  90  91  92  93  94  95  96  97\n",
      "  98  99 100 101 102 103 104 105 106 107 108 109 110 111 112 113 114 115\n",
      " 116 117 118 119 120 121 122 123 124 125 126 127 128 129 130 131 133 134\n",
      " 135 136 137 138 140 141 143 145 147 148]\n",
      "[ 18  22   6   7  39   8  15   5  25  40   8  38  23  56  79  49 113  63\n",
      "  17  29  16  18  25  27   9  19   3  26  21  47  62  35  92  57  35  47\n",
      "  47  30  15  12  12  29  19  24  20   1   1   1   1   2  11   6   6   3\n",
      "   7  28   2  10   3   1   2   2   2   4   3   6   5   1   1   2   2   1\n",
      "   5   1   4   1   4   1   1   5   1  16]\n",
      "1560\n"
     ]
    }
   ],
   "source": [
    "unique_vals, counts = np.unique(output1, return_counts=True)\n",
    "\n",
    "print(unique_vals)  # [1 2 3]\n",
    "print(counts)       # [1 2 3]\n",
    "print(np.sum(counts))   "
   ]
  },
  {
   "cell_type": "code",
   "execution_count": null,
   "id": "8a771b4f",
   "metadata": {},
   "outputs": [],
   "source": []
  }
 ],
 "metadata": {
  "kernelspec": {
   "display_name": "flask_env",
   "language": "python",
   "name": "python3"
  },
  "language_info": {
   "codemirror_mode": {
    "name": "ipython",
    "version": 3
   },
   "file_extension": ".py",
   "mimetype": "text/x-python",
   "name": "python",
   "nbconvert_exporter": "python",
   "pygments_lexer": "ipython3",
   "version": "3.11.9"
  }
 },
 "nbformat": 4,
 "nbformat_minor": 5
}
